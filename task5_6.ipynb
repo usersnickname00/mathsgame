{
  "nbformat": 4,
  "nbformat_minor": 0,
  "metadata": {
    "colab": {
      "provenance": [],
      "authorship_tag": "ABX9TyP2ZKGvS0knYfRkauEk350i",
      "include_colab_link": true
    },
    "kernelspec": {
      "name": "python3",
      "display_name": "Python 3"
    },
    "language_info": {
      "name": "python"
    }
  },
  "cells": [
    {
      "cell_type": "markdown",
      "metadata": {
        "id": "view-in-github",
        "colab_type": "text"
      },
      "source": [
        "<a href=\"https://colab.research.google.com/github/usersnickname00/mathsgame/blob/main/task5_6.ipynb\" target=\"_parent\"><img src=\"https://colab.research.google.com/assets/colab-badge.svg\" alt=\"Open In Colab\"/></a>"
      ]
    },
    {
      "cell_type": "code",
      "execution_count": null,
      "metadata": {
        "id": "8_SY6h11SDRd"
      },
      "outputs": [],
      "source": [
        "import random\n",
        "import time\n",
        "\n",
        "def math_game():\n",
        "penalty = 3\n",
        "while True:\n",
        "\n",
        "num1 = random.randint(1, 100)\n",
        "num2 = random.randint(1, 100)\n",
        "\n",
        "\n",
        "print(f\"Новый пример: {num1} + {num2}?\")\n",
        "\n",
        "try:\n",
        "\n",
        "user_answer = int(input(\"Ваш ответ: \"))\n",
        "except ValueError:\n",
        "print(\"Пожалуйста, введите числовое значение.\")\n",
        "continue\n",
        "\n",
        "\n",
        "if user_answer == num1 + num2:\n",
        "print(\"Поздравляю! Ваш ответ правильный\")\n",
        "break\n",
        "else:\n",
        "print(f\"Неверно! Штрафная пауза: {penalty} секунд\")\n",
        "time.sleep(penalty)\n",
        "penalty += 1"
      ]
    }
  ]
}